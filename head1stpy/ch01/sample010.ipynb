{
  "cells": [
    {
      "cell_type": "code",
      "execution_count": 1,
      "metadata": {
        "collapsed": true,
        "pycharm": {
          "is_executing": false
        }
      },
      "outputs": [
        {
          "name": "stdout",
          "text": [
            "This minute seems a little odd.\n"
          ],
          "output_type": "stream"
        }
      ],
      "source": "from datetime import datetime\nodds \u003d [1,  3,  5,  7,  9, 11, 13, 15, 17, 19,\n        21, 23, 25, 27, 29, 31, 33, 35, 37, 39,\n        41, 43, 45, 47, 49, 51, 53, 55, 57, 59]\nright_this_minute \u003d datetime.today().minute\n\nif right_this_minute in odds:\n    print(\u0027This minute seems a little odd.\u0027)\nelse:\n    print(\u0027Not an odd minute.\u0027)\n    "
    },
    {
      "cell_type": "code",
      "execution_count": 3,
      "outputs": [
        {
          "data": {
            "text/plain": "\u0027E:\\\\works\\\\python\\\\py_tut\\\\head1stpy\\\\ch01\u0027"
          },
          "metadata": {},
          "output_type": "execute_result",
          "execution_count": 3
        }
      ],
      "source": "from os import getcwd\nwhere_am_i \u003d getcwd()\nwhere_am_i",
      "metadata": {
        "pycharm": {
          "metadata": false,
          "name": "#%%\n",
          "is_executing": false
        }
      }
    },
    {
      "cell_type": "code",
      "execution_count": null,
      "outputs": [],
      "source": "\n",
      "metadata": {
        "pycharm": {
          "metadata": false,
          "name": "#%%\n"
        }
      }
    }
  ],
  "metadata": {
    "language_info": {
      "codemirror_mode": {
        "name": "ipython",
        "version": 2
      },
      "file_extension": ".py",
      "mimetype": "text/x-python",
      "name": "python",
      "nbconvert_exporter": "python",
      "pygments_lexer": "ipython2",
      "version": "2.7.6"
    },
    "kernelspec": {
      "name": "python3",
      "language": "python",
      "display_name": "Python 3"
    }
  },
  "nbformat": 4,
  "nbformat_minor": 0
}