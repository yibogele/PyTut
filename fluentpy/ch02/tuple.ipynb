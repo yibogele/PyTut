{
  "cells": [
    {
      "cell_type": "code",
      "execution_count": null,
      "outputs": [],
      "source": "lax_coordinates \u003d (33.9425, -118.408056)\ncity, year, pop, chg, area \u003d (\u0027Tokyo\u0027, 2003, 32450, 0.66, 8014)\ntraveler_ids \u003d [\n    (\u0027USA\u0027, \u002731195855\u0027),\n    (\u0027BRA\u0027, \u0027CE342567\u0027),\n    (\u0027ESP\u0027, \u0027XDA205856\u0027)\n]\nfor passport in sorted(traveler_ids):\n    print(\u0027%s/%s\u0027 % passport)",
      "metadata": {
        "pycharm": {
          "metadata": false,
          "name": "#%%\n"
        }
      }
    },
    {
      "cell_type": "code",
      "execution_count": null,
      "outputs": [],
      "source": "for country, _ in traveler_ids:\n    print(country)",
      "metadata": {
        "pycharm": {
          "metadata": false,
          "name": "#%%\n"
        }
      }
    },
    {
      "cell_type": "code",
      "execution_count": null,
      "outputs": [],
      "source": "latitude, longitude \u003d lax_coordinates\nlatitude",
      "metadata": {
        "pycharm": {
          "metadata": false,
          "name": "#%%\n"
        }
      }
    },
    {
      "cell_type": "code",
      "execution_count": null,
      "outputs": [],
      "source": "longitude",
      "metadata": {
        "pycharm": {
          "metadata": false,
          "name": "#%%\n"
        }
      }
    },
    {
      "cell_type": "code",
      "execution_count": null,
      "outputs": [],
      "source": "a, b \u003d (9,0)\na, b",
      "metadata": {
        "pycharm": {
          "metadata": false,
          "name": "#%%\n"
        }
      }
    },
    {
      "cell_type": "code",
      "execution_count": null,
      "outputs": [],
      "source": "a, b \u003d b, a",
      "metadata": {
        "pycharm": {
          "metadata": false,
          "name": "#%%\n"
        }
      }
    },
    {
      "cell_type": "code",
      "execution_count": null,
      "outputs": [],
      "source": "a, b",
      "metadata": {
        "pycharm": {
          "metadata": false,
          "name": "#%%\n"
        }
      }
    },
    {
      "cell_type": "code",
      "execution_count": null,
      "outputs": [],
      "source": "divmod(20, 8)",
      "metadata": {
        "pycharm": {
          "metadata": false,
          "name": "#%%\n"
        }
      }
    },
    {
      "cell_type": "code",
      "execution_count": null,
      "outputs": [],
      "source": "t \u003d (20, 8)\ndivmod(*t)",
      "metadata": {
        "pycharm": {
          "metadata": false,
          "name": "#%%\n"
        }
      }
    },
    {
      "cell_type": "code",
      "execution_count": null,
      "outputs": [],
      "source": "quotient, remainder \u003d divmod(*t)\nquotient, remainder",
      "metadata": {
        "pycharm": {
          "metadata": false,
          "name": "#%%\n"
        }
      }
    },
    {
      "cell_type": "code",
      "execution_count": null,
      "outputs": [],
      "source": "import os\n_, filename \u003d os.path.split(\u0027e:/works/python/py_tut\u0027)\nfilename",
      "metadata": {
        "pycharm": {
          "metadata": false,
          "name": "#%%\n"
        }
      }
    },
    {
      "cell_type": "code",
      "execution_count": null,
      "outputs": [],
      "source": "a, b, *rest \u003d range(5)\na, b, rest",
      "metadata": {
        "pycharm": {
          "metadata": false,
          "name": "#%%\n"
        }
      }
    },
    {
      "cell_type": "code",
      "execution_count": null,
      "outputs": [],
      "source": "a, b, *rest \u003d range(3)\na, b, rest",
      "metadata": {
        "pycharm": {
          "metadata": false,
          "name": "#%%\n"
        }
      }
    },
    {
      "cell_type": "code",
      "execution_count": null,
      "outputs": [],
      "source": "a, b, *rest \u003d range(2)\na, b, rest",
      "metadata": {
        "pycharm": {
          "metadata": false,
          "name": "#%%\n"
        }
      }
    },
    {
      "cell_type": "code",
      "execution_count": null,
      "outputs": [],
      "source": "a, *body, c, d \u003d range(5)\na, body, c, d",
      "metadata": {
        "pycharm": {
          "metadata": false,
          "name": "#%%\n"
        }
      }
    },
    {
      "cell_type": "code",
      "execution_count": null,
      "outputs": [],
      "source": "*header, b, c, d \u003d range(5)\nheader, b, c, d",
      "metadata": {
        "pycharm": {
          "metadata": false,
          "name": "#%%\n"
        }
      }
    },
    {
      "cell_type": "code",
      "execution_count": null,
      "outputs": [],
      "source": "metro_areas \u003d [\n    (\u0027Tokyo\u0027, \u0027JP\u0027, 36.933, (35.689722, 139.691667)),   # \n    (\u0027Delhi NCR\u0027, \u0027IN\u0027, 21.935, (28.613889, 77.208889)),\n    (\u0027Mexico City\u0027, \u0027MX\u0027, 20.142, (19.433333, -99.133333)),\n    (\u0027New York-Newark\u0027, \u0027US\u0027, 20.104, (40.808611, -74.020386)),\n    (\u0027Sao Paulo\u0027, \u0027BR\u0027, 19.649, (-23.547778, -46.635833)),\n]\nprint(\u0027{:15} | {:^9} | {:^9}\u0027.format(\u0027\u0027, \u0027lat.\u0027, \u0027long.\u0027))\nfmt \u003d \u0027{:15} | {:9.4f} | {:9.4f}\u0027\nfor name, cc, pop, (latitude, longitude) in metro_areas:\n    if longitude \u003c\u003d 0:\n        print(fmt.format(name, latitude, longitude))",
      "metadata": {
        "pycharm": {
          "metadata": false,
          "name": "#%%\n"
        }
      }
    },
    {
      "cell_type": "code",
      "execution_count": 1,
      "metadata": {
        "collapsed": true,
        "pycharm": {
          "is_executing": false
        }
      },
      "outputs": [
        {
          "data": {
            "text/plain": "City(name\u003d\u0027Tokyo\u0027, country\u003d\u0027JP\u0027, population\u003d36.933, coordinates\u003d(35.689722, 139.691667))"
          },
          "metadata": {},
          "output_type": "execute_result",
          "execution_count": 1
        }
      ],
      "source": "from collections import namedtuple\nCity \u003d namedtuple(\u0027City\u0027, \u0027name country population coordinates\u0027)\ntokyo \u003d City(\u0027Tokyo\u0027, \u0027JP\u0027, 36.933, (35.689722, 139.691667))\ntokyo"
    },
    {
      "cell_type": "code",
      "execution_count": 2,
      "outputs": [
        {
          "data": {
            "text/plain": "36.933"
          },
          "metadata": {},
          "output_type": "execute_result",
          "execution_count": 2
        }
      ],
      "source": "tokyo.population\n",
      "metadata": {
        "pycharm": {
          "metadata": false,
          "name": "#%%\n",
          "is_executing": false
        }
      }
    },
    {
      "cell_type": "code",
      "execution_count": 3,
      "outputs": [
        {
          "data": {
            "text/plain": "(35.689722, 139.691667)"
          },
          "metadata": {},
          "output_type": "execute_result",
          "execution_count": 3
        }
      ],
      "source": "tokyo.coordinates",
      "metadata": {
        "pycharm": {
          "metadata": false,
          "name": "#%%\n",
          "is_executing": false
        }
      }
    },
    {
      "cell_type": "code",
      "execution_count": 4,
      "outputs": [
        {
          "data": {
            "text/plain": "(\u0027name\u0027, \u0027country\u0027, \u0027population\u0027, \u0027coordinates\u0027)"
          },
          "metadata": {},
          "output_type": "execute_result",
          "execution_count": 4
        }
      ],
      "source": "City._fields",
      "metadata": {
        "pycharm": {
          "metadata": false,
          "name": "#%%\n",
          "is_executing": false
        }
      }
    },
    {
      "cell_type": "code",
      "execution_count": 5,
      "outputs": [
        {
          "data": {
            "text/plain": "City(name\u003d\u0027Delhi NCR\u0027, country\u003d\u0027IN\u0027, population\u003d21.935, coordinates\u003dLatLong(lat\u003d28.613889, long\u003d77.208889))"
          },
          "metadata": {},
          "output_type": "execute_result",
          "execution_count": 5
        }
      ],
      "source": "LatLong \u003d namedtuple(\u0027LatLong\u0027, \u0027lat long\u0027)\ndelhi_data \u003d (\u0027Delhi NCR\u0027, \u0027IN\u0027, 21.935, LatLong(28.613889, 77.208889))\ndelhi \u003d City._make(delhi_data)\ndelhi",
      "metadata": {
        "pycharm": {
          "metadata": false,
          "name": "#%%\n",
          "is_executing": false
        }
      }
    },
    {
      "cell_type": "code",
      "execution_count": 6,
      "outputs": [
        {
          "data": {
            "text/plain": "OrderedDict([(\u0027name\u0027, \u0027Delhi NCR\u0027),\n             (\u0027country\u0027, \u0027IN\u0027),\n             (\u0027population\u0027, 21.935),\n             (\u0027coordinates\u0027, LatLong(lat\u003d28.613889, long\u003d77.208889))])"
          },
          "metadata": {},
          "output_type": "execute_result",
          "execution_count": 6
        }
      ],
      "source": "delhi._asdict()",
      "metadata": {
        "pycharm": {
          "metadata": false,
          "name": "#%%\n",
          "is_executing": false
        }
      }
    },
    {
      "cell_type": "code",
      "execution_count": 7,
      "outputs": [
        {
          "name": "stdout",
          "text": [
            "name: Delhi NCR\ncountry: IN\npopulation: 21.935\ncoordinates: LatLong(lat\u003d28.613889, long\u003d77.208889)\n"
          ],
          "output_type": "stream"
        }
      ],
      "source": "for key, value in delhi._asdict().items():\n    print(f\u0027{key}: {value}\u0027)",
      "metadata": {
        "pycharm": {
          "metadata": false,
          "name": "#%%\n",
          "is_executing": false
        }
      }
    },
    {
      "cell_type": "code",
      "execution_count": null,
      "outputs": [],
      "source": "\n",
      "metadata": {
        "pycharm": {
          "metadata": false,
          "name": "#%%\n"
        }
      }
    }
  ],
  "metadata": {
    "language_info": {
      "codemirror_mode": {
        "name": "ipython",
        "version": 2
      },
      "file_extension": ".py",
      "mimetype": "text/x-python",
      "name": "python",
      "nbconvert_exporter": "python",
      "pygments_lexer": "ipython2",
      "version": "2.7.6"
    },
    "kernelspec": {
      "name": "python3",
      "language": "python",
      "display_name": "Python 3"
    },
    "stem_cell": {
      "cell_type": "raw",
      "source": "",
      "metadata": {
        "pycharm": {
          "metadata": false
        }
      }
    }
  },
  "nbformat": 4,
  "nbformat_minor": 0
}