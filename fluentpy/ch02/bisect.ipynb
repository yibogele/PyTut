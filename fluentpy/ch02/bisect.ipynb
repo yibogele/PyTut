{
  "cells": [
    {
      "cell_type": "code",
      "execution_count": 1,
      "metadata": {
        "collapsed": true,
        "pycharm": {
          "is_executing": false
        }
      },
      "outputs": [],
      "source": "import bisect\nimport sys\n"
    },
    {
      "cell_type": "code",
      "execution_count": 4,
      "outputs": [],
      "source": "HAYSTACK \u003d [1, 4, 5, 6, 8, 12, 15, 20, 21, 23, 23, 26, 29, 30]\nNEEDLES \u003d [0, 1, 2, 5, 8, 10, 22, 23, 29, 30, 31]\n\nROW_FMT \u003d \u0027{0:2d} @ {1:2d}      {2}{0:\u003c2d}\u0027\n\ndef demo(bisect_fn):\n    for needle in reversed(NEEDLES):\n        position \u003d bisect_fn(HAYSTACK, needle)\n        offset \u003d position * \u0027   |\u0027\n        print(ROW_FMT.format(needle, position, offset))\n\ndef main_fn(args\u003d\u0027left\u0027):\n    if args \u003d\u003d \u0027left\u0027:\n        bisect_fn \u003d bisect.bisect_left\n    else:\n        bisect_fn \u003d bisect.bisect\n    \n    print(\u0027DEMO:\u0027, bisect_fn.__name__)\n    print(\u0027haystack -\u003e\u0027, \u0027  \u0027.join(\u0027%2d\u0027 % n for n in HAYSTACK))\n    demo(bisect_fn)\n",
      "metadata": {
        "pycharm": {
          "metadata": false,
          "name": "#%%\n",
          "is_executing": false
        }
      }
    },
    {
      "cell_type": "code",
      "execution_count": 5,
      "outputs": [
        {
          "name": "stdout",
          "text": [
            "DEMO: bisect_left\nhaystack -\u003e  1   4   5   6   8  12  15  20  21  23  23  26  29  30\n31 @ 14         |   |   |   |   |   |   |   |   |   |   |   |   |   |31\n30 @ 13         |   |   |   |   |   |   |   |   |   |   |   |   |30\n29 @ 12         |   |   |   |   |   |   |   |   |   |   |   |29\n23 @  9         |   |   |   |   |   |   |   |   |23\n22 @  9         |   |   |   |   |   |   |   |   |22\n10 @  5         |   |   |   |   |10\n 8 @  4         |   |   |   |8 \n 5 @  2         |   |5 \n 2 @  1         |2 \n 1 @  0      1 \n 0 @  0      0 \n"
          ],
          "output_type": "stream"
        }
      ],
      "source": "main_fn()",
      "metadata": {
        "pycharm": {
          "metadata": false,
          "name": "#%%\n",
          "is_executing": false
        }
      }
    },
    {
      "cell_type": "code",
      "execution_count": null,
      "outputs": [],
      "source": "\n",
      "metadata": {
        "pycharm": {
          "metadata": false,
          "name": "#%%\n"
        }
      }
    }
  ],
  "metadata": {
    "language_info": {
      "codemirror_mode": {
        "name": "ipython",
        "version": 2
      },
      "file_extension": ".py",
      "mimetype": "text/x-python",
      "name": "python",
      "nbconvert_exporter": "python",
      "pygments_lexer": "ipython2",
      "version": "2.7.6"
    },
    "kernelspec": {
      "name": "python3",
      "language": "python",
      "display_name": "Python 3"
    }
  },
  "nbformat": 4,
  "nbformat_minor": 0
}