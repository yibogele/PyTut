{
  "cells": [
    {
      "cell_type": "code",
      "execution_count": 1,
      "metadata": {
        "collapsed": true,
        "pycharm": {
          "is_executing": false
        }
      },
      "outputs": [
        {
          "data": {
            "text/plain": "[35, 36, 94, 38, 42, 64]"
          },
          "metadata": {},
          "output_type": "execute_result",
          "execution_count": 1
        }
      ],
      "source": "symbols \u003d \u0027#$^\u0026*@\u0027\ncodes \u003d []\nfor symbol in symbols:\n    codes.append(ord(symbol))\ncodes"
    },
    {
      "cell_type": "code",
      "execution_count": 2,
      "outputs": [
        {
          "data": {
            "text/plain": "[35, 36, 94, 38, 42, 64]"
          },
          "metadata": {},
          "output_type": "execute_result",
          "execution_count": 2
        }
      ],
      "source": "codes \u003d [ord(symbol) for symbol in symbols]\ncodes",
      "metadata": {
        "pycharm": {
          "metadata": false,
          "name": "#%%\n",
          "is_executing": false
        }
      }
    },
    {
      "cell_type": "code",
      "execution_count": 2,
      "outputs": [
        {
          "data": {
            "text/plain": "[162, 163, 165, 8364, 164]"
          },
          "metadata": {},
          "output_type": "execute_result",
          "execution_count": 2
        }
      ],
      "source": "symbols \u003d \u0027$¢£¥€¤\u0027\nbeyond_ascii \u003d [ord(symbol) for symbol in symbols if ord(symbol) \u003e 127]\nbeyond_ascii",
      "metadata": {
        "pycharm": {
          "metadata": false,
          "name": "#%%\n",
          "is_executing": false
        }
      }
    },
    {
      "cell_type": "code",
      "execution_count": 4,
      "outputs": [
        {
          "data": {
            "text/plain": "[162, 163, 165, 8364, 164]"
          },
          "metadata": {},
          "output_type": "execute_result",
          "execution_count": 4
        }
      ],
      "source": "beyond_ascii \u003d list(filter(lambda c: c\u003e127, map(ord, symbols)))\nbeyond_ascii",
      "metadata": {
        "pycharm": {
          "metadata": false,
          "name": "#%%\n",
          "is_executing": false
        }
      }
    },
    {
      "cell_type": "code",
      "execution_count": 5,
      "outputs": [
        {
          "data": {
            "text/plain": "[(\u0027white\u0027, \u0027S\u0027),\n (\u0027white\u0027, \u0027M\u0027),\n (\u0027white\u0027, \u0027L\u0027),\n (\u0027black\u0027, \u0027S\u0027),\n (\u0027black\u0027, \u0027M\u0027),\n (\u0027black\u0027, \u0027L\u0027)]"
          },
          "metadata": {},
          "output_type": "execute_result",
          "execution_count": 5
        }
      ],
      "source": "colors \u003d [\u0027white\u0027, \u0027black\u0027]\nsizes \u003d [\u0027S\u0027, \u0027M\u0027, \u0027L\u0027]\ntshirts \u003d [(c, s) for c in colors for s in sizes]\ntshirts",
      "metadata": {
        "pycharm": {
          "metadata": false,
          "name": "#%%\n",
          "is_executing": false
        }
      }
    },
    {
      "cell_type": "code",
      "execution_count": 6,
      "outputs": [
        {
          "name": "stdout",
          "text": [
            "white S\nwhite M\nwhite L\nblack S\nblack M\nblack L\n"
          ],
          "output_type": "stream"
        }
      ],
      "source": "for c in colors:\n    for s in sizes:\n        print(c, s)",
      "metadata": {
        "pycharm": {
          "metadata": false,
          "name": "#%%\n",
          "is_executing": false
        }
      }
    },
    {
      "cell_type": "code",
      "execution_count": 7,
      "outputs": [
        {
          "data": {
            "text/plain": "[(\u0027white\u0027, \u0027S\u0027),\n (\u0027black\u0027, \u0027S\u0027),\n (\u0027white\u0027, \u0027M\u0027),\n (\u0027black\u0027, \u0027M\u0027),\n (\u0027white\u0027, \u0027L\u0027),\n (\u0027black\u0027, \u0027L\u0027)]"
          },
          "metadata": {},
          "output_type": "execute_result",
          "execution_count": 7
        }
      ],
      "source": "tshirts \u003d [(c, s) for s in sizes for c in colors]\ntshirts",
      "metadata": {
        "pycharm": {
          "metadata": false,
          "name": "#%%\n",
          "is_executing": false
        }
      }
    },
    {
      "cell_type": "code",
      "execution_count": 3,
      "outputs": [
        {
          "data": {
            "text/plain": "(36, 162, 163, 165, 8364, 164)"
          },
          "metadata": {},
          "output_type": "execute_result",
          "execution_count": 3
        }
      ],
      "source": "tuple(ord(symbol) for symbol in symbols)",
      "metadata": {
        "pycharm": {
          "metadata": false,
          "name": "#%%\n",
          "is_executing": false
        }
      }
    },
    {
      "cell_type": "code",
      "execution_count": 4,
      "outputs": [
        {
          "data": {
            "text/plain": "array(\u0027I\u0027, [36, 162, 163, 165, 8364, 164])"
          },
          "metadata": {},
          "output_type": "execute_result",
          "execution_count": 4
        }
      ],
      "source": "import array\narray.array(\u0027I\u0027, (ord(s) for s in symbols))",
      "metadata": {
        "pycharm": {
          "metadata": false,
          "name": "#%%\n",
          "is_executing": false
        }
      }
    },
    {
      "cell_type": "code",
      "execution_count": 6,
      "outputs": [
        {
          "name": "stdout",
          "text": [
            "(\u0027white\u0027, \u0027S\u0027)\n(\u0027white\u0027, \u0027M\u0027)\n(\u0027white\u0027, \u0027L\u0027)\n(\u0027black\u0027, \u0027S\u0027)\n(\u0027black\u0027, \u0027M\u0027)\n(\u0027black\u0027, \u0027L\u0027)\n"
          ],
          "output_type": "stream"
        }
      ],
      "source": "for tshirt in (f\u0027{(c,s)}\u0027 for c in colors for s in sizes):\n    print(tshirt)\n\n",
      "metadata": {
        "pycharm": {
          "metadata": false,
          "name": "#%%\n",
          "is_executing": false
        }
      }
    }
  ],
  "metadata": {
    "language_info": {
      "codemirror_mode": {
        "name": "ipython",
        "version": 2
      },
      "file_extension": ".py",
      "mimetype": "text/x-python",
      "name": "python",
      "nbconvert_exporter": "python",
      "pygments_lexer": "ipython2",
      "version": "2.7.6"
    },
    "kernelspec": {
      "name": "python3",
      "language": "python",
      "display_name": "Python 3"
    }
  },
  "nbformat": 4,
  "nbformat_minor": 0
}