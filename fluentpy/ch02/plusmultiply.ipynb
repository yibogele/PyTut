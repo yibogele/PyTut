{
  "cells": [
    {
      "cell_type": "code",
      "execution_count": 1,
      "metadata": {
        "collapsed": true,
        "pycharm": {
          "is_executing": false
        }
      },
      "outputs": [
        {
          "data": {
            "text/plain": "[1, 2, 3, 1, 2, 3, 1, 2, 3, 1, 2, 3, 1, 2, 3]"
          },
          "metadata": {},
          "output_type": "execute_result",
          "execution_count": 1
        }
      ],
      "source": "l \u003d [1, 2, 3]\nl * 5"
    },
    {
      "cell_type": "code",
      "execution_count": 2,
      "outputs": [
        {
          "data": {
            "text/plain": "\u0027abcdabcdabcdabcdabcd\u0027"
          },
          "metadata": {},
          "output_type": "execute_result",
          "execution_count": 2
        }
      ],
      "source": "5 * \u0027abcd\u0027",
      "metadata": {
        "pycharm": {
          "metadata": false,
          "name": "#%%\n",
          "is_executing": false
        }
      }
    },
    {
      "cell_type": "code",
      "execution_count": 3,
      "outputs": [
        {
          "data": {
            "text/plain": "[[\u0027_\u0027, \u0027_\u0027, \u0027_\u0027], [\u0027_\u0027, \u0027_\u0027, \u0027_\u0027], [\u0027_\u0027, \u0027_\u0027, \u0027_\u0027]]"
          },
          "metadata": {},
          "output_type": "execute_result",
          "execution_count": 3
        }
      ],
      "source": "board \u003d [[\u0027_\u0027]*3 for i in range(3)]\nboard",
      "metadata": {
        "pycharm": {
          "metadata": false,
          "name": "#%%\n",
          "is_executing": false
        }
      }
    },
    {
      "cell_type": "code",
      "execution_count": 4,
      "outputs": [
        {
          "data": {
            "text/plain": "[[\u0027_\u0027, \u0027_\u0027, \u0027_\u0027], [\u0027_\u0027, \u0027_\u0027, \u0027x\u0027], [\u0027_\u0027, \u0027_\u0027, \u0027_\u0027]]"
          },
          "metadata": {},
          "output_type": "execute_result",
          "execution_count": 4
        }
      ],
      "source": "board[1][2] \u003d \u0027x\u0027\nboard",
      "metadata": {
        "pycharm": {
          "metadata": false,
          "name": "#%%\n",
          "is_executing": false
        }
      }
    },
    {
      "cell_type": "code",
      "execution_count": 5,
      "outputs": [
        {
          "traceback": [
            "\u001b[1;31m---------------------------------------------------------------------------\u001b[0m",
            "\u001b[1;31mTypeError\u001b[0m                                 Traceback (most recent call last)",
            "\u001b[1;32m\u003cipython-input-5-5dbe51b05317\u003e\u001b[0m in \u001b[0;36m\u003cmodule\u003e\u001b[1;34m\u001b[0m\n\u001b[1;32m----\u003e 1\u001b[1;33m \u001b[0mboard\u001b[0m\u001b[1;33m[\u001b[0m\u001b[1;36m1\u001b[0m\u001b[1;33m,\u001b[0m \u001b[1;36m2\u001b[0m\u001b[1;33m]\u001b[0m \u001b[1;33m\u003d\u001b[0m \u001b[1;34m\u0027o\u0027\u001b[0m\u001b[1;33m\u001b[0m\u001b[1;33m\u001b[0m\u001b[0m\n\u001b[0m\u001b[0;32m      2\u001b[0m \u001b[0mboard\u001b[0m\u001b[1;33m\u001b[0m\u001b[1;33m\u001b[0m\u001b[0m\n",
            "\u001b[1;31mTypeError\u001b[0m: list indices must be integers or slices, not tuple"
          ],
          "ename": "TypeError",
          "evalue": "list indices must be integers or slices, not tuple",
          "output_type": "error"
        }
      ],
      "source": "board[1, 2] \u003d \u0027o\u0027\nboard",
      "metadata": {
        "pycharm": {
          "metadata": false,
          "name": "#%%\n",
          "is_executing": false
        }
      }
    },
    {
      "cell_type": "code",
      "execution_count": 6,
      "outputs": [
        {
          "data": {
            "text/plain": "[[\u0027_\u0027, \u0027_\u0027, \u0027_\u0027], [\u0027_\u0027, \u0027_\u0027, \u0027_\u0027], [\u0027_\u0027, \u0027_\u0027, \u0027_\u0027]]"
          },
          "metadata": {},
          "output_type": "execute_result",
          "execution_count": 6
        }
      ],
      "source": "weird_board \u003d [[\u0027_\u0027] * 3] * 3\nweird_board",
      "metadata": {
        "pycharm": {
          "metadata": false,
          "name": "#%%\n",
          "is_executing": false
        }
      }
    },
    {
      "cell_type": "code",
      "execution_count": 7,
      "outputs": [
        {
          "data": {
            "text/plain": "[[\u0027_\u0027, \u0027_\u0027, \u0027x\u0027], [\u0027_\u0027, \u0027_\u0027, \u0027x\u0027], [\u0027_\u0027, \u0027_\u0027, \u0027x\u0027]]"
          },
          "metadata": {},
          "output_type": "execute_result",
          "execution_count": 7
        }
      ],
      "source": "weird_board[1][2] \u003d \u0027x\u0027\nweird_board",
      "metadata": {
        "pycharm": {
          "metadata": false,
          "name": "#%%\n",
          "is_executing": false
        }
      }
    },
    {
      "cell_type": "code",
      "execution_count": null,
      "outputs": [],
      "source": "\n",
      "metadata": {
        "pycharm": {
          "metadata": false,
          "name": "#%%\n"
        }
      }
    }
  ],
  "metadata": {
    "language_info": {
      "codemirror_mode": {
        "name": "ipython",
        "version": 2
      },
      "file_extension": ".py",
      "mimetype": "text/x-python",
      "name": "python",
      "nbconvert_exporter": "python",
      "pygments_lexer": "ipython2",
      "version": "2.7.6"
    },
    "kernelspec": {
      "name": "python3",
      "language": "python",
      "display_name": "Python 3"
    }
  },
  "nbformat": 4,
  "nbformat_minor": 0
}