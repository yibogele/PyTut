{
  "cells": [
    {
      "cell_type": "code",
      "execution_count": 3,
      "outputs": [],
      "source": "from collections import abc",
      "metadata": {
        "pycharm": {
          "metadata": false,
          "name": "#%%\n",
          "is_executing": false
        }
      }
    },
    {
      "cell_type": "code",
      "execution_count": 1,
      "metadata": {
        "collapsed": true,
        "pycharm": {
          "is_executing": false
        }
      },
      "outputs": [
        {
          "name": "stdout",
          "text": [
            "{\u0027__name__\u0027: \u0027builtins\u0027, \u0027__doc__\u0027: \"Built-in functions, exceptions, and other objects.\\n\\nNoteworthy: None is the `nil\u0027 object; Ellipsis represents `...\u0027 in slices.\", \u0027__package__\u0027: \u0027\u0027, \u0027__loader__\u0027: \u003cclass \u0027_frozen_importlib.BuiltinImporter\u0027\u003e, \u0027__spec__\u0027: ModuleSpec(name\u003d\u0027builtins\u0027, loader\u003d\u003cclass \u0027_frozen_importlib.BuiltinImporter\u0027\u003e), \u0027__build_class__\u0027: \u003cbuilt-in function __build_class__\u003e, \u0027__import__\u0027: \u003cbuilt-in function __import__\u003e, \u0027abs\u0027: \u003cbuilt-in function abs\u003e, \u0027all\u0027: \u003cbuilt-in function all\u003e, \u0027any\u0027: \u003cbuilt-in function any\u003e, \u0027ascii\u0027: \u003cbuilt-in function ascii\u003e, \u0027bin\u0027: \u003cbuilt-in function bin\u003e, \u0027breakpoint\u0027: \u003cbuilt-in function breakpoint\u003e, \u0027callable\u0027: \u003cbuilt-in function callable\u003e, \u0027chr\u0027: \u003cbuilt-in function chr\u003e, \u0027compile\u0027: \u003cbuilt-in function compile\u003e, \u0027delattr\u0027: \u003cbuilt-in function delattr\u003e, \u0027dir\u0027: \u003cbuilt-in function dir\u003e, \u0027divmod\u0027: \u003cbuilt-in function divmod\u003e, \u0027eval\u0027: \u003cbuilt-in function eval\u003e, \u0027exec\u0027: \u003cbuilt-in function exec\u003e, \u0027format\u0027: \u003cbuilt-in function format\u003e, \u0027getattr\u0027: \u003cbuilt-in function getattr\u003e, \u0027globals\u0027: \u003cbuilt-in function globals\u003e, \u0027hasattr\u0027: \u003cbuilt-in function hasattr\u003e, \u0027hash\u0027: \u003cbuilt-in function hash\u003e, \u0027hex\u0027: \u003cbuilt-in function hex\u003e, \u0027id\u0027: \u003cbuilt-in function id\u003e, \u0027input\u0027: \u003cbound method Kernel.raw_input of \u003cipykernel.ipkernel.IPythonKernel object at 0x000001935F480438\u003e\u003e, \u0027isinstance\u0027: \u003cbuilt-in function isinstance\u003e, \u0027issubclass\u0027: \u003cbuilt-in function issubclass\u003e, \u0027iter\u0027: \u003cbuilt-in function iter\u003e, \u0027len\u0027: \u003cbuilt-in function len\u003e, \u0027locals\u0027: \u003cbuilt-in function locals\u003e, \u0027max\u0027: \u003cbuilt-in function max\u003e, \u0027min\u0027: \u003cbuilt-in function min\u003e, \u0027next\u0027: \u003cbuilt-in function next\u003e, \u0027oct\u0027: \u003cbuilt-in function oct\u003e, \u0027ord\u0027: \u003cbuilt-in function ord\u003e, \u0027pow\u0027: \u003cbuilt-in function pow\u003e, \u0027print\u0027: \u003cbuilt-in function print\u003e, \u0027repr\u0027: \u003cbuilt-in function repr\u003e, \u0027round\u0027: \u003cbuilt-in function round\u003e, \u0027setattr\u0027: \u003cbuilt-in function setattr\u003e, \u0027sorted\u0027: \u003cbuilt-in function sorted\u003e, \u0027sum\u0027: \u003cbuilt-in function sum\u003e, \u0027vars\u0027: \u003cbuilt-in function vars\u003e, \u0027None\u0027: None, \u0027Ellipsis\u0027: Ellipsis, \u0027NotImplemented\u0027: NotImplemented, \u0027False\u0027: False, \u0027True\u0027: True, \u0027bool\u0027: \u003cclass \u0027bool\u0027\u003e, \u0027memoryview\u0027: \u003cclass \u0027memoryview\u0027\u003e, \u0027bytearray\u0027: \u003cclass \u0027bytearray\u0027\u003e, \u0027bytes\u0027: \u003cclass \u0027bytes\u0027\u003e, \u0027classmethod\u0027: \u003cclass \u0027classmethod\u0027\u003e, \u0027complex\u0027: \u003cclass \u0027complex\u0027\u003e, \u0027dict\u0027: \u003cclass \u0027dict\u0027\u003e, \u0027enumerate\u0027: \u003cclass \u0027enumerate\u0027\u003e, \u0027filter\u0027: \u003cclass \u0027filter\u0027\u003e, \u0027float\u0027: \u003cclass \u0027float\u0027\u003e, \u0027frozenset\u0027: \u003cclass \u0027frozenset\u0027\u003e, \u0027property\u0027: \u003cclass \u0027property\u0027\u003e, \u0027int\u0027: \u003cclass \u0027int\u0027\u003e, \u0027list\u0027: \u003cclass \u0027list\u0027\u003e, \u0027map\u0027: \u003cclass \u0027map\u0027\u003e, \u0027object\u0027: \u003cclass \u0027object\u0027\u003e, \u0027range\u0027: \u003cclass \u0027range\u0027\u003e, \u0027reversed\u0027: \u003cclass \u0027reversed\u0027\u003e, \u0027set\u0027: \u003cclass \u0027set\u0027\u003e, \u0027slice\u0027: \u003cclass \u0027slice\u0027\u003e, \u0027staticmethod\u0027: \u003cclass \u0027staticmethod\u0027\u003e, \u0027str\u0027: \u003cclass \u0027str\u0027\u003e, \u0027super\u0027: \u003cclass \u0027super\u0027\u003e, \u0027tuple\u0027: \u003cclass \u0027tuple\u0027\u003e, \u0027type\u0027: \u003cclass \u0027type\u0027\u003e, \u0027zip\u0027: \u003cclass \u0027zip\u0027\u003e, \u0027__debug__\u0027: True, \u0027BaseException\u0027: \u003cclass \u0027BaseException\u0027\u003e, \u0027Exception\u0027: \u003cclass \u0027Exception\u0027\u003e, \u0027TypeError\u0027: \u003cclass \u0027TypeError\u0027\u003e, \u0027StopAsyncIteration\u0027: \u003cclass \u0027StopAsyncIteration\u0027\u003e, \u0027StopIteration\u0027: \u003cclass \u0027StopIteration\u0027\u003e, \u0027GeneratorExit\u0027: \u003cclass \u0027GeneratorExit\u0027\u003e, \u0027SystemExit\u0027: \u003cclass \u0027SystemExit\u0027\u003e, \u0027KeyboardInterrupt\u0027: \u003cclass \u0027KeyboardInterrupt\u0027\u003e, \u0027ImportError\u0027: \u003cclass \u0027ImportError\u0027\u003e, \u0027ModuleNotFoundError\u0027: \u003cclass \u0027ModuleNotFoundError\u0027\u003e, \u0027OSError\u0027: \u003cclass \u0027OSError\u0027\u003e, \u0027EnvironmentError\u0027: \u003cclass \u0027OSError\u0027\u003e, \u0027IOError\u0027: \u003cclass \u0027OSError\u0027\u003e, \u0027WindowsError\u0027: \u003cclass \u0027OSError\u0027\u003e, \u0027EOFError\u0027: \u003cclass \u0027EOFError\u0027\u003e, \u0027RuntimeError\u0027: \u003cclass \u0027RuntimeError\u0027\u003e, \u0027RecursionError\u0027: \u003cclass \u0027RecursionError\u0027\u003e, \u0027NotImplementedError\u0027: \u003cclass \u0027NotImplementedError\u0027\u003e, \u0027NameError\u0027: \u003cclass \u0027NameError\u0027\u003e, \u0027UnboundLocalError\u0027: \u003cclass \u0027UnboundLocalError\u0027\u003e, \u0027AttributeError\u0027: \u003cclass \u0027AttributeError\u0027\u003e, \u0027SyntaxError\u0027: \u003cclass \u0027SyntaxError\u0027\u003e, \u0027IndentationError\u0027: \u003cclass \u0027IndentationError\u0027\u003e, \u0027TabError\u0027: \u003cclass \u0027TabError\u0027\u003e, \u0027LookupError\u0027: \u003cclass \u0027LookupError\u0027\u003e, \u0027IndexError\u0027: \u003cclass \u0027IndexError\u0027\u003e, \u0027KeyError\u0027: \u003cclass \u0027KeyError\u0027\u003e, \u0027ValueError\u0027: \u003cclass \u0027ValueError\u0027\u003e, \u0027UnicodeError\u0027: \u003cclass \u0027UnicodeError\u0027\u003e, \u0027UnicodeEncodeError\u0027: \u003cclass \u0027UnicodeEncodeError\u0027\u003e, \u0027UnicodeDecodeError\u0027: \u003cclass \u0027UnicodeDecodeError\u0027\u003e, \u0027UnicodeTranslateError\u0027: \u003cclass \u0027UnicodeTranslateError\u0027\u003e, \u0027AssertionError\u0027: \u003cclass \u0027AssertionError\u0027\u003e, \u0027ArithmeticError\u0027: \u003cclass \u0027ArithmeticError\u0027\u003e, \u0027FloatingPointError\u0027: \u003cclass \u0027FloatingPointError\u0027\u003e, \u0027OverflowError\u0027: \u003cclass \u0027OverflowError\u0027\u003e, \u0027ZeroDivisionError\u0027: \u003cclass \u0027ZeroDivisionError\u0027\u003e, \u0027SystemError\u0027: \u003cclass \u0027SystemError\u0027\u003e, \u0027ReferenceError\u0027: \u003cclass \u0027ReferenceError\u0027\u003e, \u0027MemoryError\u0027: \u003cclass \u0027MemoryError\u0027\u003e, \u0027BufferError\u0027: \u003cclass \u0027BufferError\u0027\u003e, \u0027Warning\u0027: \u003cclass \u0027Warning\u0027\u003e, \u0027UserWarning\u0027: \u003cclass \u0027UserWarning\u0027\u003e, \u0027DeprecationWarning\u0027: \u003cclass \u0027DeprecationWarning\u0027\u003e, \u0027PendingDeprecationWarning\u0027: \u003cclass \u0027PendingDeprecationWarning\u0027\u003e, \u0027SyntaxWarning\u0027: \u003cclass \u0027SyntaxWarning\u0027\u003e, \u0027RuntimeWarning\u0027: \u003cclass \u0027RuntimeWarning\u0027\u003e, \u0027FutureWarning\u0027: \u003cclass \u0027FutureWarning\u0027\u003e, \u0027ImportWarning\u0027: \u003cclass \u0027ImportWarning\u0027\u003e, \u0027UnicodeWarning\u0027: \u003cclass \u0027UnicodeWarning\u0027\u003e, \u0027BytesWarning\u0027: \u003cclass \u0027BytesWarning\u0027\u003e, \u0027ResourceWarning\u0027: \u003cclass \u0027ResourceWarning\u0027\u003e, \u0027ConnectionError\u0027: \u003cclass \u0027ConnectionError\u0027\u003e, \u0027BlockingIOError\u0027: \u003cclass \u0027BlockingIOError\u0027\u003e, \u0027BrokenPipeError\u0027: \u003cclass \u0027BrokenPipeError\u0027\u003e, \u0027ChildProcessError\u0027: \u003cclass \u0027ChildProcessError\u0027\u003e, \u0027ConnectionAbortedError\u0027: \u003cclass \u0027ConnectionAbortedError\u0027\u003e, \u0027ConnectionRefusedError\u0027: \u003cclass \u0027ConnectionRefusedError\u0027\u003e, \u0027ConnectionResetError\u0027: \u003cclass \u0027ConnectionResetError\u0027\u003e, \u0027FileExistsError\u0027: \u003cclass \u0027FileExistsError\u0027\u003e, \u0027FileNotFoundError\u0027: \u003cclass \u0027FileNotFoundError\u0027\u003e, \u0027IsADirectoryError\u0027: \u003cclass \u0027IsADirectoryError\u0027\u003e, \u0027NotADirectoryError\u0027: \u003cclass \u0027NotADirectoryError\u0027\u003e, \u0027InterruptedError\u0027: \u003cclass \u0027InterruptedError\u0027\u003e, \u0027PermissionError\u0027: \u003cclass \u0027PermissionError\u0027\u003e, \u0027ProcessLookupError\u0027: \u003cclass \u0027ProcessLookupError\u0027\u003e, \u0027TimeoutError\u0027: \u003cclass \u0027TimeoutError\u0027\u003e, \u0027open\u0027: \u003cbuilt-in function open\u003e, \u0027copyright\u0027: Copyright (c) 2001-2019 Python Software Foundation.\nAll Rights Reserved.\n\nCopyright (c) 2000 BeOpen.com.\nAll Rights Reserved.\n\nCopyright (c) 1995-2001 Corporation for National Research Initiatives.\nAll Rights Reserved.\n\nCopyright (c) 1991-1995 Stichting Mathematisch Centrum, Amsterdam.\nAll Rights Reserved., \u0027credits\u0027:     Thanks to CWI, CNRI, BeOpen.com, Zope Corporation and a cast of thousands\n    for supporting Python development.  See www.python.org for more information., \u0027license\u0027: Type license() to see the full license text, \u0027help\u0027: Type help() for interactive help, or help(object) for help about object., \u0027__IPYTHON__\u0027: True, \u0027display\u0027: \u003cfunction display at 0x000001935CD927B8\u003e, \u0027get_ipython\u0027: \u003cbound method InteractiveShell.get_ipython of \u003cipykernel.zmqshell.ZMQInteractiveShell object at 0x000001935F1902B0\u003e\u003e}\n"
          ],
          "output_type": "stream"
        }
      ],
      "source": "print(__builtins__.__dict__)\n"
    },
    {
      "cell_type": "code",
      "execution_count": 4,
      "outputs": [
        {
          "data": {
            "text/plain": "True"
          },
          "metadata": {},
          "output_type": "execute_result",
          "execution_count": 4
        }
      ],
      "source": "my_dict \u003d {}\nisinstance(my_dict, abc.Mapping)",
      "metadata": {
        "pycharm": {
          "metadata": false,
          "name": "#%%\n",
          "is_executing": false
        }
      }
    },
    {
      "cell_type": "code",
      "execution_count": 5,
      "outputs": [
        {
          "data": {
            "text/plain": "-2725224101759650258"
          },
          "metadata": {},
          "output_type": "execute_result",
          "execution_count": 5
        }
      ],
      "source": "tt \u003d (1, 2, (3, 4))\nhash(tt)",
      "metadata": {
        "pycharm": {
          "metadata": false,
          "name": "#%%\n",
          "is_executing": false
        }
      }
    },
    {
      "cell_type": "code",
      "execution_count": 6,
      "outputs": [
        {
          "traceback": [
            "\u001b[1;31m---------------------------------------------------------------------------\u001b[0m",
            "\u001b[1;31mTypeError\u001b[0m                                 Traceback (most recent call last)",
            "\u001b[1;32m\u003cipython-input-6-6b85e9249be5\u003e\u001b[0m in \u001b[0;36m\u003cmodule\u003e\u001b[1;34m\u001b[0m\n\u001b[0;32m      1\u001b[0m \u001b[0mtl\u001b[0m \u001b[1;33m\u003d\u001b[0m \u001b[1;33m(\u001b[0m\u001b[1;36m1\u001b[0m\u001b[1;33m,\u001b[0m \u001b[1;36m2\u001b[0m\u001b[1;33m,\u001b[0m \u001b[1;33m[\u001b[0m\u001b[1;36m3\u001b[0m\u001b[1;33m,\u001b[0m \u001b[1;36m4\u001b[0m\u001b[1;33m]\u001b[0m\u001b[1;33m)\u001b[0m\u001b[1;33m\u001b[0m\u001b[1;33m\u001b[0m\u001b[0m\n\u001b[1;32m----\u003e 2\u001b[1;33m \u001b[0mhash\u001b[0m\u001b[1;33m(\u001b[0m\u001b[0mtl\u001b[0m\u001b[1;33m)\u001b[0m\u001b[1;33m\u001b[0m\u001b[1;33m\u001b[0m\u001b[0m\n\u001b[0m",
            "\u001b[1;31mTypeError\u001b[0m: unhashable type: \u0027list\u0027"
          ],
          "ename": "TypeError",
          "evalue": "unhashable type: \u0027list\u0027",
          "output_type": "error"
        }
      ],
      "source": "tl \u003d (1, 2, [3, 4])\nhash(tl)",
      "metadata": {
        "pycharm": {
          "metadata": false,
          "name": "#%%\n",
          "is_executing": false
        }
      }
    },
    {
      "cell_type": "code",
      "execution_count": 7,
      "outputs": [
        {
          "data": {
            "text/plain": "985328935373711578"
          },
          "metadata": {},
          "output_type": "execute_result",
          "execution_count": 7
        }
      ],
      "source": "ts \u003d (1, 2, frozenset([30, 40]))\nhash(ts)",
      "metadata": {
        "pycharm": {
          "metadata": false,
          "name": "#%%\n",
          "is_executing": false
        }
      }
    },
    {
      "cell_type": "code",
      "execution_count": null,
      "outputs": [],
      "source": "\n",
      "metadata": {
        "pycharm": {
          "metadata": false,
          "name": "#%%\n"
        }
      }
    }
  ],
  "metadata": {
    "language_info": {
      "codemirror_mode": {
        "name": "ipython",
        "version": 2
      },
      "file_extension": ".py",
      "mimetype": "text/x-python",
      "name": "python",
      "nbconvert_exporter": "python",
      "pygments_lexer": "ipython2",
      "version": "2.7.6"
    },
    "kernelspec": {
      "name": "python3",
      "language": "python",
      "display_name": "Python 3"
    },
    "stem_cell": {
      "cell_type": "raw",
      "source": "",
      "metadata": {
        "pycharm": {
          "metadata": false
        }
      }
    }
  },
  "nbformat": 4,
  "nbformat_minor": 0
}